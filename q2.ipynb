{
  "nbformat": 4,
  "nbformat_minor": 0,
  "metadata": {
    "colab": {
      "provenance": []
    },
    "kernelspec": {
      "name": "python3",
      "display_name": "Python 3"
    },
    "language_info": {
      "name": "python"
    }
  },
  "cells": [
    {
      "cell_type": "code",
      "source": [
        "import numpy as np \n",
        "\n",
        "R = int(input(\"Enter the number of rows:\"))\n",
        "C = int(input(\"Enter the number of columns:\"))\n",
        "  \n",
        "\n",
        "matrix1 = []\n",
        "print(\"Enter the values:\")\n",
        "\n",
        "for i in range(R):         \n",
        "    a =[]\n",
        "    for j in range(C):      \n",
        "         a.append(int(input()))\n",
        "    matrix1.append(a)\n",
        "  \n",
        "\n",
        "for i in range(R):\n",
        "    for j in range(C):\n",
        "        print(matrix1[i][j], end = \" \")\n",
        "    print()"
      ],
      "metadata": {
        "colab": {
          "base_uri": "https://localhost:8080/"
        },
        "id": "YELXnGCyH3fh",
        "outputId": "59b93bb7-8907-4753-8f8b-679b476aba87"
      },
      "execution_count": 22,
      "outputs": [
        {
          "output_type": "stream",
          "name": "stdout",
          "text": [
            "Enter the number of rows:2\n",
            "Enter the number of columns:2\n",
            "Enter the values:\n",
            "1\n",
            "2\n",
            "3\n",
            "4\n",
            "1 2 \n",
            "3 4 \n"
          ]
        }
      ]
    },
    {
      "cell_type": "code",
      "source": [
        "R = int(input(\"Enter the number of rows:\"))\n",
        "C = int(input(\"Enter the number of columns:\"))\n",
        "matrix2 = []\n",
        "print(\"Enter the values:\")\n",
        "\n",
        "for i in range(R):         \n",
        "    a =[]\n",
        "    for j in range(C):      \n",
        "         a.append(int(input()))\n",
        "    matrix2.append(a)\n",
        "  \n",
        "\n",
        "for i in range(R):\n",
        "    for j in range(C):\n",
        "        print(matrix2[i][j], end = \" \")\n",
        "    print()"
      ],
      "metadata": {
        "colab": {
          "base_uri": "https://localhost:8080/"
        },
        "id": "-nStnmSrIi0F",
        "outputId": "74768f62-3a85-40d3-9246-57fbcd5331db"
      },
      "execution_count": 24,
      "outputs": [
        {
          "output_type": "stream",
          "name": "stdout",
          "text": [
            "Enter the number of rows:2\n",
            "Enter the number of columns:2\n",
            "Enter the values:\n",
            "5\n",
            "6\n",
            "7\n",
            "8\n",
            "5 6 \n",
            "7 8 \n"
          ]
        }
      ]
    },
    {
      "cell_type": "code",
      "source": [
        "c=np.dot(matrix1, matrix2)  \n",
        "c  "
      ],
      "metadata": {
        "colab": {
          "base_uri": "https://localhost:8080/"
        },
        "id": "0NsqUG_gH5oY",
        "outputId": "36358e25-ad89-46a3-ce51-e933ea6e1959"
      },
      "execution_count": 25,
      "outputs": [
        {
          "output_type": "execute_result",
          "data": {
            "text/plain": [
              "array([[19, 22],\n",
              "       [43, 50]])"
            ]
          },
          "metadata": {},
          "execution_count": 25
        }
      ]
    },
    {
      "cell_type": "code",
      "source": [
        "import numpy as np\n",
        "\n",
        "transpose = np.transpose(matrix1)\n",
        "print(transpose)"
      ],
      "metadata": {
        "colab": {
          "base_uri": "https://localhost:8080/"
        },
        "id": "6wCmy1zuIVN7",
        "outputId": "08b0f576-2f0a-446a-c031-f4938b94d55a"
      },
      "execution_count": 26,
      "outputs": [
        {
          "output_type": "stream",
          "name": "stdout",
          "text": [
            "[[1 3]\n",
            " [2 4]]\n"
          ]
        }
      ]
    },
    {
      "cell_type": "code",
      "source": [
        "trace=np.trace(matrix1)\n",
        "print(trace)"
      ],
      "metadata": {
        "colab": {
          "base_uri": "https://localhost:8080/"
        },
        "id": "-dsy0s23JwgJ",
        "outputId": "b1829afd-86bd-4b97-ffea-0f001ddb8ac8"
      },
      "execution_count": 27,
      "outputs": [
        {
          "output_type": "stream",
          "name": "stdout",
          "text": [
            "5\n"
          ]
        }
      ]
    },
    {
      "cell_type": "code",
      "source": [
        "rank=np.linalg.matrix_rank(matrix1)\n",
        "print(rank)"
      ],
      "metadata": {
        "colab": {
          "base_uri": "https://localhost:8080/"
        },
        "id": "xnb7Id49KRcG",
        "outputId": "a0404d19-4a33-4a2b-efab-556bceebf086"
      },
      "execution_count": 28,
      "outputs": [
        {
          "output_type": "stream",
          "name": "stdout",
          "text": [
            "2\n"
          ]
        }
      ]
    },
    {
      "cell_type": "code",
      "source": [
        "determinant=np.linalg.det(matrix1)\n",
        "print (determinant)"
      ],
      "metadata": {
        "colab": {
          "base_uri": "https://localhost:8080/"
        },
        "id": "RjUrVAf9Kqn5",
        "outputId": "ce5ce2f0-46a3-47a2-90e7-7b21d21c2c31"
      },
      "execution_count": 29,
      "outputs": [
        {
          "output_type": "stream",
          "name": "stdout",
          "text": [
            "-2.0000000000000004\n"
          ]
        }
      ]
    }
  ]
}